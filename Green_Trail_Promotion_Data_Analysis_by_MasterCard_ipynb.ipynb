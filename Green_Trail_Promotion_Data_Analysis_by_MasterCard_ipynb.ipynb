{
  "nbformat": 4,
  "nbformat_minor": 0,
  "metadata": {
    "colab": {
      "provenance": [],
      "authorship_tag": "ABX9TyMr83CkYN91T0a3dtqZexAI",
      "include_colab_link": true
    },
    "kernelspec": {
      "name": "python3",
      "display_name": "Python 3"
    },
    "language_info": {
      "name": "python"
    }
  },
  "cells": [
    {
      "cell_type": "markdown",
      "metadata": {
        "id": "view-in-github",
        "colab_type": "text"
      },
      "source": [
        "<a href=\"https://colab.research.google.com/github/JigyasaSharma-Tech/Jigyasa/blob/main/Green_Trail_Promotion_Data_Analysis_by_MasterCard_ipynb.ipynb\" target=\"_parent\"><img src=\"https://colab.research.google.com/assets/colab-badge.svg\" alt=\"Open In Colab\"/></a>"
      ]
    },
    {
      "cell_type": "markdown",
      "source": [
        "# **OBJECTIVE:**\n",
        "Your goal is to analyze GreenTrail Outdoors' promotion data and propose an optimized promotional strategy. This strategy should align with GreenTrail's sustainability ethos and aim to improve the effectiveness of their in-store promotions.\n",
        "\n",
        "1)Pay close attention to the performance metrics of past promotions in various stores.\n",
        "\n",
        "2)Look for trends, patterns, or anomalies in the data.\n",
        "\n",
        "3)Consider what other data could enrich your analysis (e.g. customer demographics, regional economic data).\n"
      ],
      "metadata": {
        "id": "XTrLPFR0-9V2"
      }
    },
    {
      "cell_type": "code",
      "metadata": {
        "id": "5L0KgX73Ak7Q"
      },
      "source": [
        "import pandas as pd\n",
        "import numpy as np\n",
        "import matplotlib.pyplot as plt\n",
        "import seaborn as sns\n",
        "import sklearn\n",
        "import datetime as dt\n",
        "from scipy import stats"
      ],
      "execution_count": null,
      "outputs": []
    },
    {
      "cell_type": "code",
      "source": [
        "data = pd.read_excel('/content/GreenTrail Store Data.xlsx')"
      ],
      "metadata": {
        "id": "Ho_UCdxm_RpA"
      },
      "execution_count": null,
      "outputs": []
    },
    {
      "cell_type": "code",
      "source": [
        "data.head()"
      ],
      "metadata": {
        "colab": {
          "base_uri": "https://localhost:8080/",
          "height": 293
        },
        "id": "8D-RFH-w_RmV",
        "outputId": "4fcb30b5-7a2a-43a1-caf6-1558705d3a38"
      },
      "execution_count": null,
      "outputs": [
        {
          "output_type": "execute_result",
          "data": {
            "text/plain": [
              "   Store ID     Location  Store Size Store Type  Promotion ID  \\\n",
              "0         1     New York        2000      Urban           101   \n",
              "1         2  Los Angeles        1500   Suburban           102   \n",
              "2         3      Chicago        1800      Urban           103   \n",
              "3         4      Houston        1600   Suburban           104   \n",
              "4         5      Phoenix        1700      Urban           105   \n",
              "\n",
              "  Type of Promotion Promotion Start Date Promotion End Date  \\\n",
              "0          Discount           2023-06-01         2023-06-14   \n",
              "1   Buy-One-Get-One           2023-05-15         2023-05-28   \n",
              "2     Special Event           2023-07-01         2023-07-14   \n",
              "3          Discount           2023-06-10         2023-06-24   \n",
              "4   Buy-One-Get-One           2023-04-20         2023-05-04   \n",
              "\n",
              "   Weekly Sales During Promotion  Weekly Sales Before Promotion  \\\n",
              "0                          50000                          30000   \n",
              "1                          45000                          35000   \n",
              "2                          60000                          40000   \n",
              "3                          48000                          32000   \n",
              "4                          53000                          34000   \n",
              "\n",
              "   Weekly Sales After Promotion  Average Daily Visits During Promotion  \\\n",
              "0                         35000                                    400   \n",
              "1                         30000                                    450   \n",
              "2                         40000                                    500   \n",
              "3                         33000                                    425   \n",
              "4                         36000                                    475   \n",
              "\n",
              "   Average Daily Visits Before Promotion  Average Daily Visits After Promotion  \n",
              "0                                    300                                   350  \n",
              "1                                    400                                   375  \n",
              "2                                    350                                   450  \n",
              "3                                    310                                   320  \n",
              "4                                    350                                   370  "
            ],
            "text/html": [
              "\n",
              "  <div id=\"df-c7de3957-0e08-45f5-a15a-6f90a4419f6d\" class=\"colab-df-container\">\n",
              "    <div>\n",
              "<style scoped>\n",
              "    .dataframe tbody tr th:only-of-type {\n",
              "        vertical-align: middle;\n",
              "    }\n",
              "\n",
              "    .dataframe tbody tr th {\n",
              "        vertical-align: top;\n",
              "    }\n",
              "\n",
              "    .dataframe thead th {\n",
              "        text-align: right;\n",
              "    }\n",
              "</style>\n",
              "<table border=\"1\" class=\"dataframe\">\n",
              "  <thead>\n",
              "    <tr style=\"text-align: right;\">\n",
              "      <th></th>\n",
              "      <th>Store ID</th>\n",
              "      <th>Location</th>\n",
              "      <th>Store Size</th>\n",
              "      <th>Store Type</th>\n",
              "      <th>Promotion ID</th>\n",
              "      <th>Type of Promotion</th>\n",
              "      <th>Promotion Start Date</th>\n",
              "      <th>Promotion End Date</th>\n",
              "      <th>Weekly Sales During Promotion</th>\n",
              "      <th>Weekly Sales Before Promotion</th>\n",
              "      <th>Weekly Sales After Promotion</th>\n",
              "      <th>Average Daily Visits During Promotion</th>\n",
              "      <th>Average Daily Visits Before Promotion</th>\n",
              "      <th>Average Daily Visits After Promotion</th>\n",
              "    </tr>\n",
              "  </thead>\n",
              "  <tbody>\n",
              "    <tr>\n",
              "      <th>0</th>\n",
              "      <td>1</td>\n",
              "      <td>New York</td>\n",
              "      <td>2000</td>\n",
              "      <td>Urban</td>\n",
              "      <td>101</td>\n",
              "      <td>Discount</td>\n",
              "      <td>2023-06-01</td>\n",
              "      <td>2023-06-14</td>\n",
              "      <td>50000</td>\n",
              "      <td>30000</td>\n",
              "      <td>35000</td>\n",
              "      <td>400</td>\n",
              "      <td>300</td>\n",
              "      <td>350</td>\n",
              "    </tr>\n",
              "    <tr>\n",
              "      <th>1</th>\n",
              "      <td>2</td>\n",
              "      <td>Los Angeles</td>\n",
              "      <td>1500</td>\n",
              "      <td>Suburban</td>\n",
              "      <td>102</td>\n",
              "      <td>Buy-One-Get-One</td>\n",
              "      <td>2023-05-15</td>\n",
              "      <td>2023-05-28</td>\n",
              "      <td>45000</td>\n",
              "      <td>35000</td>\n",
              "      <td>30000</td>\n",
              "      <td>450</td>\n",
              "      <td>400</td>\n",
              "      <td>375</td>\n",
              "    </tr>\n",
              "    <tr>\n",
              "      <th>2</th>\n",
              "      <td>3</td>\n",
              "      <td>Chicago</td>\n",
              "      <td>1800</td>\n",
              "      <td>Urban</td>\n",
              "      <td>103</td>\n",
              "      <td>Special Event</td>\n",
              "      <td>2023-07-01</td>\n",
              "      <td>2023-07-14</td>\n",
              "      <td>60000</td>\n",
              "      <td>40000</td>\n",
              "      <td>40000</td>\n",
              "      <td>500</td>\n",
              "      <td>350</td>\n",
              "      <td>450</td>\n",
              "    </tr>\n",
              "    <tr>\n",
              "      <th>3</th>\n",
              "      <td>4</td>\n",
              "      <td>Houston</td>\n",
              "      <td>1600</td>\n",
              "      <td>Suburban</td>\n",
              "      <td>104</td>\n",
              "      <td>Discount</td>\n",
              "      <td>2023-06-10</td>\n",
              "      <td>2023-06-24</td>\n",
              "      <td>48000</td>\n",
              "      <td>32000</td>\n",
              "      <td>33000</td>\n",
              "      <td>425</td>\n",
              "      <td>310</td>\n",
              "      <td>320</td>\n",
              "    </tr>\n",
              "    <tr>\n",
              "      <th>4</th>\n",
              "      <td>5</td>\n",
              "      <td>Phoenix</td>\n",
              "      <td>1700</td>\n",
              "      <td>Urban</td>\n",
              "      <td>105</td>\n",
              "      <td>Buy-One-Get-One</td>\n",
              "      <td>2023-04-20</td>\n",
              "      <td>2023-05-04</td>\n",
              "      <td>53000</td>\n",
              "      <td>34000</td>\n",
              "      <td>36000</td>\n",
              "      <td>475</td>\n",
              "      <td>350</td>\n",
              "      <td>370</td>\n",
              "    </tr>\n",
              "  </tbody>\n",
              "</table>\n",
              "</div>\n",
              "    <div class=\"colab-df-buttons\">\n",
              "\n",
              "  <div class=\"colab-df-container\">\n",
              "    <button class=\"colab-df-convert\" onclick=\"convertToInteractive('df-c7de3957-0e08-45f5-a15a-6f90a4419f6d')\"\n",
              "            title=\"Convert this dataframe to an interactive table.\"\n",
              "            style=\"display:none;\">\n",
              "\n",
              "  <svg xmlns=\"http://www.w3.org/2000/svg\" height=\"24px\" viewBox=\"0 -960 960 960\">\n",
              "    <path d=\"M120-120v-720h720v720H120Zm60-500h600v-160H180v160Zm220 220h160v-160H400v160Zm0 220h160v-160H400v160ZM180-400h160v-160H180v160Zm440 0h160v-160H620v160ZM180-180h160v-160H180v160Zm440 0h160v-160H620v160Z\"/>\n",
              "  </svg>\n",
              "    </button>\n",
              "\n",
              "  <style>\n",
              "    .colab-df-container {\n",
              "      display:flex;\n",
              "      gap: 12px;\n",
              "    }\n",
              "\n",
              "    .colab-df-convert {\n",
              "      background-color: #E8F0FE;\n",
              "      border: none;\n",
              "      border-radius: 50%;\n",
              "      cursor: pointer;\n",
              "      display: none;\n",
              "      fill: #1967D2;\n",
              "      height: 32px;\n",
              "      padding: 0 0 0 0;\n",
              "      width: 32px;\n",
              "    }\n",
              "\n",
              "    .colab-df-convert:hover {\n",
              "      background-color: #E2EBFA;\n",
              "      box-shadow: 0px 1px 2px rgba(60, 64, 67, 0.3), 0px 1px 3px 1px rgba(60, 64, 67, 0.15);\n",
              "      fill: #174EA6;\n",
              "    }\n",
              "\n",
              "    .colab-df-buttons div {\n",
              "      margin-bottom: 4px;\n",
              "    }\n",
              "\n",
              "    [theme=dark] .colab-df-convert {\n",
              "      background-color: #3B4455;\n",
              "      fill: #D2E3FC;\n",
              "    }\n",
              "\n",
              "    [theme=dark] .colab-df-convert:hover {\n",
              "      background-color: #434B5C;\n",
              "      box-shadow: 0px 1px 3px 1px rgba(0, 0, 0, 0.15);\n",
              "      filter: drop-shadow(0px 1px 2px rgba(0, 0, 0, 0.3));\n",
              "      fill: #FFFFFF;\n",
              "    }\n",
              "  </style>\n",
              "\n",
              "    <script>\n",
              "      const buttonEl =\n",
              "        document.querySelector('#df-c7de3957-0e08-45f5-a15a-6f90a4419f6d button.colab-df-convert');\n",
              "      buttonEl.style.display =\n",
              "        google.colab.kernel.accessAllowed ? 'block' : 'none';\n",
              "\n",
              "      async function convertToInteractive(key) {\n",
              "        const element = document.querySelector('#df-c7de3957-0e08-45f5-a15a-6f90a4419f6d');\n",
              "        const dataTable =\n",
              "          await google.colab.kernel.invokeFunction('convertToInteractive',\n",
              "                                                    [key], {});\n",
              "        if (!dataTable) return;\n",
              "\n",
              "        const docLinkHtml = 'Like what you see? Visit the ' +\n",
              "          '<a target=\"_blank\" href=https://colab.research.google.com/notebooks/data_table.ipynb>data table notebook</a>'\n",
              "          + ' to learn more about interactive tables.';\n",
              "        element.innerHTML = '';\n",
              "        dataTable['output_type'] = 'display_data';\n",
              "        await google.colab.output.renderOutput(dataTable, element);\n",
              "        const docLink = document.createElement('div');\n",
              "        docLink.innerHTML = docLinkHtml;\n",
              "        element.appendChild(docLink);\n",
              "      }\n",
              "    </script>\n",
              "  </div>\n",
              "\n",
              "\n",
              "    <div id=\"df-08074b01-9c76-42c2-ae78-6d135b467507\">\n",
              "      <button class=\"colab-df-quickchart\" onclick=\"quickchart('df-08074b01-9c76-42c2-ae78-6d135b467507')\"\n",
              "                title=\"Suggest charts\"\n",
              "                style=\"display:none;\">\n",
              "\n",
              "<svg xmlns=\"http://www.w3.org/2000/svg\" height=\"24px\"viewBox=\"0 0 24 24\"\n",
              "     width=\"24px\">\n",
              "    <g>\n",
              "        <path d=\"M19 3H5c-1.1 0-2 .9-2 2v14c0 1.1.9 2 2 2h14c1.1 0 2-.9 2-2V5c0-1.1-.9-2-2-2zM9 17H7v-7h2v7zm4 0h-2V7h2v10zm4 0h-2v-4h2v4z\"/>\n",
              "    </g>\n",
              "</svg>\n",
              "      </button>\n",
              "\n",
              "<style>\n",
              "  .colab-df-quickchart {\n",
              "      --bg-color: #E8F0FE;\n",
              "      --fill-color: #1967D2;\n",
              "      --hover-bg-color: #E2EBFA;\n",
              "      --hover-fill-color: #174EA6;\n",
              "      --disabled-fill-color: #AAA;\n",
              "      --disabled-bg-color: #DDD;\n",
              "  }\n",
              "\n",
              "  [theme=dark] .colab-df-quickchart {\n",
              "      --bg-color: #3B4455;\n",
              "      --fill-color: #D2E3FC;\n",
              "      --hover-bg-color: #434B5C;\n",
              "      --hover-fill-color: #FFFFFF;\n",
              "      --disabled-bg-color: #3B4455;\n",
              "      --disabled-fill-color: #666;\n",
              "  }\n",
              "\n",
              "  .colab-df-quickchart {\n",
              "    background-color: var(--bg-color);\n",
              "    border: none;\n",
              "    border-radius: 50%;\n",
              "    cursor: pointer;\n",
              "    display: none;\n",
              "    fill: var(--fill-color);\n",
              "    height: 32px;\n",
              "    padding: 0;\n",
              "    width: 32px;\n",
              "  }\n",
              "\n",
              "  .colab-df-quickchart:hover {\n",
              "    background-color: var(--hover-bg-color);\n",
              "    box-shadow: 0 1px 2px rgba(60, 64, 67, 0.3), 0 1px 3px 1px rgba(60, 64, 67, 0.15);\n",
              "    fill: var(--button-hover-fill-color);\n",
              "  }\n",
              "\n",
              "  .colab-df-quickchart-complete:disabled,\n",
              "  .colab-df-quickchart-complete:disabled:hover {\n",
              "    background-color: var(--disabled-bg-color);\n",
              "    fill: var(--disabled-fill-color);\n",
              "    box-shadow: none;\n",
              "  }\n",
              "\n",
              "  .colab-df-spinner {\n",
              "    border: 2px solid var(--fill-color);\n",
              "    border-color: transparent;\n",
              "    border-bottom-color: var(--fill-color);\n",
              "    animation:\n",
              "      spin 1s steps(1) infinite;\n",
              "  }\n",
              "\n",
              "  @keyframes spin {\n",
              "    0% {\n",
              "      border-color: transparent;\n",
              "      border-bottom-color: var(--fill-color);\n",
              "      border-left-color: var(--fill-color);\n",
              "    }\n",
              "    20% {\n",
              "      border-color: transparent;\n",
              "      border-left-color: var(--fill-color);\n",
              "      border-top-color: var(--fill-color);\n",
              "    }\n",
              "    30% {\n",
              "      border-color: transparent;\n",
              "      border-left-color: var(--fill-color);\n",
              "      border-top-color: var(--fill-color);\n",
              "      border-right-color: var(--fill-color);\n",
              "    }\n",
              "    40% {\n",
              "      border-color: transparent;\n",
              "      border-right-color: var(--fill-color);\n",
              "      border-top-color: var(--fill-color);\n",
              "    }\n",
              "    60% {\n",
              "      border-color: transparent;\n",
              "      border-right-color: var(--fill-color);\n",
              "    }\n",
              "    80% {\n",
              "      border-color: transparent;\n",
              "      border-right-color: var(--fill-color);\n",
              "      border-bottom-color: var(--fill-color);\n",
              "    }\n",
              "    90% {\n",
              "      border-color: transparent;\n",
              "      border-bottom-color: var(--fill-color);\n",
              "    }\n",
              "  }\n",
              "</style>\n",
              "\n",
              "      <script>\n",
              "        async function quickchart(key) {\n",
              "          const quickchartButtonEl =\n",
              "            document.querySelector('#' + key + ' button');\n",
              "          quickchartButtonEl.disabled = true;  // To prevent multiple clicks.\n",
              "          quickchartButtonEl.classList.add('colab-df-spinner');\n",
              "          try {\n",
              "            const charts = await google.colab.kernel.invokeFunction(\n",
              "                'suggestCharts', [key], {});\n",
              "          } catch (error) {\n",
              "            console.error('Error during call to suggestCharts:', error);\n",
              "          }\n",
              "          quickchartButtonEl.classList.remove('colab-df-spinner');\n",
              "          quickchartButtonEl.classList.add('colab-df-quickchart-complete');\n",
              "        }\n",
              "        (() => {\n",
              "          let quickchartButtonEl =\n",
              "            document.querySelector('#df-08074b01-9c76-42c2-ae78-6d135b467507 button');\n",
              "          quickchartButtonEl.style.display =\n",
              "            google.colab.kernel.accessAllowed ? 'block' : 'none';\n",
              "        })();\n",
              "      </script>\n",
              "    </div>\n",
              "\n",
              "    </div>\n",
              "  </div>\n"
            ],
            "application/vnd.google.colaboratory.intrinsic+json": {
              "type": "dataframe",
              "variable_name": "data",
              "summary": "{\n  \"name\": \"data\",\n  \"rows\": 25,\n  \"fields\": [\n    {\n      \"column\": \"Store ID\",\n      \"properties\": {\n        \"dtype\": \"number\",\n        \"std\": 7,\n        \"min\": 1,\n        \"max\": 25,\n        \"num_unique_values\": 25,\n        \"samples\": [\n          9,\n          17,\n          1\n        ],\n        \"semantic_type\": \"\",\n        \"description\": \"\"\n      }\n    },\n    {\n      \"column\": \"Location\",\n      \"properties\": {\n        \"dtype\": \"string\",\n        \"num_unique_values\": 25,\n        \"samples\": [\n          \"Dallas\",\n          \"El Paso\",\n          \"New York\"\n        ],\n        \"semantic_type\": \"\",\n        \"description\": \"\"\n      }\n    },\n    {\n      \"column\": \"Store Size\",\n      \"properties\": {\n        \"dtype\": \"number\",\n        \"std\": 190,\n        \"min\": 1300,\n        \"max\": 2000,\n        \"num_unique_values\": 13,\n        \"samples\": [\n          1300,\n          1650,\n          2000\n        ],\n        \"semantic_type\": \"\",\n        \"description\": \"\"\n      }\n    },\n    {\n      \"column\": \"Store Type\",\n      \"properties\": {\n        \"dtype\": \"category\",\n        \"num_unique_values\": 2,\n        \"samples\": [\n          \"Suburban\",\n          \"Urban\"\n        ],\n        \"semantic_type\": \"\",\n        \"description\": \"\"\n      }\n    },\n    {\n      \"column\": \"Promotion ID\",\n      \"properties\": {\n        \"dtype\": \"number\",\n        \"std\": 7,\n        \"min\": 101,\n        \"max\": 125,\n        \"num_unique_values\": 25,\n        \"samples\": [\n          109,\n          117\n        ],\n        \"semantic_type\": \"\",\n        \"description\": \"\"\n      }\n    },\n    {\n      \"column\": \"Type of Promotion\",\n      \"properties\": {\n        \"dtype\": \"category\",\n        \"num_unique_values\": 3,\n        \"samples\": [\n          \"Discount\",\n          \"Buy-One-Get-One\"\n        ],\n        \"semantic_type\": \"\",\n        \"description\": \"\"\n      }\n    },\n    {\n      \"column\": \"Promotion Start Date\",\n      \"properties\": {\n        \"dtype\": \"date\",\n        \"min\": \"2023-04-10 00:00:00\",\n        \"max\": \"2023-08-15 00:00:00\",\n        \"num_unique_values\": 23,\n        \"samples\": [\n          \"2023-08-10 00:00:00\",\n          \"2023-04-15 00:00:00\"\n        ],\n        \"semantic_type\": \"\",\n        \"description\": \"\"\n      }\n    },\n    {\n      \"column\": \"Promotion End Date\",\n      \"properties\": {\n        \"dtype\": \"date\",\n        \"min\": \"2023-04-24 00:00:00\",\n        \"max\": \"2023-08-29 00:00:00\",\n        \"num_unique_values\": 24,\n        \"samples\": [\n          \"2023-05-24 00:00:00\",\n          \"2023-07-26 00:00:00\"\n        ],\n        \"semantic_type\": \"\",\n        \"description\": \"\"\n      }\n    },\n    {\n      \"column\": \"Weekly Sales During Promotion\",\n      \"properties\": {\n        \"dtype\": \"number\",\n        \"std\": 4691,\n        \"min\": 42000,\n        \"max\": 60000,\n        \"num_unique_values\": 17,\n        \"samples\": [\n          50000,\n          45000\n        ],\n        \"semantic_type\": \"\",\n        \"description\": \"\"\n      }\n    },\n    {\n      \"column\": \"Weekly Sales Before Promotion\",\n      \"properties\": {\n        \"dtype\": \"number\",\n        \"std\": 3796,\n        \"min\": 30000,\n        \"max\": 44000,\n        \"num_unique_values\": 15,\n        \"samples\": [\n          33000,\n          38000\n        ],\n        \"semantic_type\": \"\",\n        \"description\": \"\"\n      }\n    },\n    {\n      \"column\": \"Weekly Sales After Promotion\",\n      \"properties\": {\n        \"dtype\": \"number\",\n        \"std\": 3506,\n        \"min\": 30000,\n        \"max\": 45000,\n        \"num_unique_values\": 13,\n        \"samples\": [\n          45000,\n          34000\n        ],\n        \"semantic_type\": \"\",\n        \"description\": \"\"\n      }\n    },\n    {\n      \"column\": \"Average Daily Visits During Promotion\",\n      \"properties\": {\n        \"dtype\": \"number\",\n        \"std\": 51,\n        \"min\": 350,\n        \"max\": 540,\n        \"num_unique_values\": 16,\n        \"samples\": [\n          400,\n          450\n        ],\n        \"semantic_type\": \"\",\n        \"description\": \"\"\n      }\n    },\n    {\n      \"column\": \"Average Daily Visits Before Promotion\",\n      \"properties\": {\n        \"dtype\": \"number\",\n        \"std\": 35,\n        \"min\": 300,\n        \"max\": 430,\n        \"num_unique_values\": 15,\n        \"samples\": [\n          360,\n          430\n        ],\n        \"semantic_type\": \"\",\n        \"description\": \"\"\n      }\n    },\n    {\n      \"column\": \"Average Daily Visits After Promotion\",\n      \"properties\": {\n        \"dtype\": \"number\",\n        \"std\": 32,\n        \"min\": 320,\n        \"max\": 450,\n        \"num_unique_values\": 13,\n        \"samples\": [\n          420,\n          390\n        ],\n        \"semantic_type\": \"\",\n        \"description\": \"\"\n      }\n    }\n  ]\n}"
            }
          },
          "metadata": {},
          "execution_count": 21
        }
      ]
    },
    {
      "cell_type": "code",
      "source": [
        "data.shape"
      ],
      "metadata": {
        "colab": {
          "base_uri": "https://localhost:8080/"
        },
        "id": "Iy6sBmV4_Rjs",
        "outputId": "1082573a-17d2-4fae-8eb5-25450a46f66b"
      },
      "execution_count": null,
      "outputs": [
        {
          "output_type": "execute_result",
          "data": {
            "text/plain": [
              "(25, 14)"
            ]
          },
          "metadata": {},
          "execution_count": 22
        }
      ]
    },
    {
      "cell_type": "code",
      "source": [
        "data.info()"
      ],
      "metadata": {
        "colab": {
          "base_uri": "https://localhost:8080/"
        },
        "id": "9atwpxJ__RhQ",
        "outputId": "b0b9cf1f-fdfc-491b-cbac-798e07865998"
      },
      "execution_count": null,
      "outputs": [
        {
          "output_type": "stream",
          "name": "stdout",
          "text": [
            "<class 'pandas.core.frame.DataFrame'>\n",
            "RangeIndex: 25 entries, 0 to 24\n",
            "Data columns (total 14 columns):\n",
            " #   Column                                 Non-Null Count  Dtype         \n",
            "---  ------                                 --------------  -----         \n",
            " 0   Store ID                               25 non-null     int64         \n",
            " 1   Location                               25 non-null     object        \n",
            " 2   Store Size                             25 non-null     int64         \n",
            " 3   Store Type                             25 non-null     object        \n",
            " 4   Promotion ID                           25 non-null     int64         \n",
            " 5   Type of Promotion                      25 non-null     object        \n",
            " 6   Promotion Start Date                   25 non-null     datetime64[ns]\n",
            " 7   Promotion End Date                     25 non-null     datetime64[ns]\n",
            " 8   Weekly Sales During Promotion          25 non-null     int64         \n",
            " 9   Weekly Sales Before Promotion          25 non-null     int64         \n",
            " 10  Weekly Sales After Promotion           25 non-null     int64         \n",
            " 11  Average Daily Visits During Promotion  25 non-null     int64         \n",
            " 12  Average Daily Visits Before Promotion  25 non-null     int64         \n",
            " 13  Average Daily Visits After Promotion   25 non-null     int64         \n",
            "dtypes: datetime64[ns](2), int64(9), object(3)\n",
            "memory usage: 2.9+ KB\n"
          ]
        }
      ]
    },
    {
      "cell_type": "code",
      "source": [
        "data.isnull().sum()"
      ],
      "metadata": {
        "colab": {
          "base_uri": "https://localhost:8080/",
          "height": 523
        },
        "id": "qczu91yN_ReP",
        "outputId": "ece31116-35d0-4b0f-e984-4ca6603bf397"
      },
      "execution_count": null,
      "outputs": [
        {
          "output_type": "execute_result",
          "data": {
            "text/plain": [
              "Store ID                                 0\n",
              "Location                                 0\n",
              "Store Size                               0\n",
              "Store Type                               0\n",
              "Promotion ID                             0\n",
              "Type of Promotion                        0\n",
              "Promotion Start Date                     0\n",
              "Promotion End Date                       0\n",
              "Weekly Sales During Promotion            0\n",
              "Weekly Sales Before Promotion            0\n",
              "Weekly Sales After Promotion             0\n",
              "Average Daily Visits During Promotion    0\n",
              "Average Daily Visits Before Promotion    0\n",
              "Average Daily Visits After Promotion     0\n",
              "dtype: int64"
            ],
            "text/html": [
              "<div>\n",
              "<style scoped>\n",
              "    .dataframe tbody tr th:only-of-type {\n",
              "        vertical-align: middle;\n",
              "    }\n",
              "\n",
              "    .dataframe tbody tr th {\n",
              "        vertical-align: top;\n",
              "    }\n",
              "\n",
              "    .dataframe thead th {\n",
              "        text-align: right;\n",
              "    }\n",
              "</style>\n",
              "<table border=\"1\" class=\"dataframe\">\n",
              "  <thead>\n",
              "    <tr style=\"text-align: right;\">\n",
              "      <th></th>\n",
              "      <th>0</th>\n",
              "    </tr>\n",
              "  </thead>\n",
              "  <tbody>\n",
              "    <tr>\n",
              "      <th>Store ID</th>\n",
              "      <td>0</td>\n",
              "    </tr>\n",
              "    <tr>\n",
              "      <th>Location</th>\n",
              "      <td>0</td>\n",
              "    </tr>\n",
              "    <tr>\n",
              "      <th>Store Size</th>\n",
              "      <td>0</td>\n",
              "    </tr>\n",
              "    <tr>\n",
              "      <th>Store Type</th>\n",
              "      <td>0</td>\n",
              "    </tr>\n",
              "    <tr>\n",
              "      <th>Promotion ID</th>\n",
              "      <td>0</td>\n",
              "    </tr>\n",
              "    <tr>\n",
              "      <th>Type of Promotion</th>\n",
              "      <td>0</td>\n",
              "    </tr>\n",
              "    <tr>\n",
              "      <th>Promotion Start Date</th>\n",
              "      <td>0</td>\n",
              "    </tr>\n",
              "    <tr>\n",
              "      <th>Promotion End Date</th>\n",
              "      <td>0</td>\n",
              "    </tr>\n",
              "    <tr>\n",
              "      <th>Weekly Sales During Promotion</th>\n",
              "      <td>0</td>\n",
              "    </tr>\n",
              "    <tr>\n",
              "      <th>Weekly Sales Before Promotion</th>\n",
              "      <td>0</td>\n",
              "    </tr>\n",
              "    <tr>\n",
              "      <th>Weekly Sales After Promotion</th>\n",
              "      <td>0</td>\n",
              "    </tr>\n",
              "    <tr>\n",
              "      <th>Average Daily Visits During Promotion</th>\n",
              "      <td>0</td>\n",
              "    </tr>\n",
              "    <tr>\n",
              "      <th>Average Daily Visits Before Promotion</th>\n",
              "      <td>0</td>\n",
              "    </tr>\n",
              "    <tr>\n",
              "      <th>Average Daily Visits After Promotion</th>\n",
              "      <td>0</td>\n",
              "    </tr>\n",
              "  </tbody>\n",
              "</table>\n",
              "</div><br><label><b>dtype:</b> int64</label>"
            ]
          },
          "metadata": {},
          "execution_count": 24
        }
      ]
    },
    {
      "cell_type": "markdown",
      "source": [
        "# **Exploratory Data Analysis**\n",
        "*A) Sales & Visits Before vs During vs After*"
      ],
      "metadata": {
        "id": "u3gSgIZtb4ib"
      }
    },
    {
      "cell_type": "code",
      "source": [
        "sales_cols = ['Weekly Sales Before Promotion', 'Weekly Sales During Promotion', 'Weekly Sales After Promotion']\n",
        "visit_cols = ['Average Daily Visits Before Promotion', 'Average Daily Visits During Promotion', 'Average Daily Visits After Promotion']\n",
        "\n",
        "data_sales_melted = data.melt(id_vars=['Store ID', 'Location', 'Store Type'],\n",
        "                          value_vars=sales_cols, var_name='Period', value_name='Sales')\n",
        "\n",
        "data_visits_melted = data.melt(id_vars=['Store ID', 'Location', 'Store Type'],\n",
        "                           value_vars=visit_cols, var_name='Period', value_name='Visits')"
      ],
      "metadata": {
        "id": "MwEZQoaT_RQn"
      },
      "execution_count": null,
      "outputs": []
    },
    {
      "cell_type": "code",
      "source": [
        "# Sales Trend Visualization\n",
        "plt.figure(figsize=(9, 4))\n",
        "sns.boxplot(data=data_sales_melted, x='Period', y='Sales', palette='Blues')\n",
        "plt.title('Sales Distribution Before, During, After Promotion')\n",
        "plt.show()"
      ],
      "metadata": {
        "colab": {
          "base_uri": "https://localhost:8080/",
          "height": 497
        },
        "id": "yaHgphzL_RNc",
        "outputId": "3d98d5e5-b053-4308-9012-83e074d98e92"
      },
      "execution_count": null,
      "outputs": [
        {
          "output_type": "stream",
          "name": "stderr",
          "text": [
            "/tmp/ipython-input-39-2963566200.py:3: FutureWarning: \n",
            "\n",
            "Passing `palette` without assigning `hue` is deprecated and will be removed in v0.14.0. Assign the `x` variable to `hue` and set `legend=False` for the same effect.\n",
            "\n",
            "  sns.boxplot(data=data_sales_melted, x='Period', y='Sales', palette='Blues')\n"
          ]
        },
        {
          "output_type": "display_data",
          "data": {
            "text/plain": [
              "<Figure size 900x400 with 1 Axes>"
            ],
            "image/png": "[encoded data removed]"
          },
          "metadata": {}
        }
      ]
    },
    {
      "cell_type": "code",
      "source": [
        "# Visits Trend Visualization\n",
        "plt.figure(figsize=(11, 4))\n",
        "sns.boxplot(data=data_visits_melted, x='Period', y='Visits', palette='Greens')\n",
        "plt.title('Foot Traffic Before, During, After Promotion')\n",
        "plt.show()"
      ],
      "metadata": {
        "colab": {
          "base_uri": "https://localhost:8080/",
          "height": 497
        },
        "id": "E3w50zWY_RH2",
        "outputId": "4118e683-43be-4a63-c2c7-c8f191be4545"
      },
      "execution_count": null,
      "outputs": [
        {
          "output_type": "stream",
          "name": "stderr",
          "text": [
            "/tmp/ipython-input-38-898008420.py:3: FutureWarning: \n",
            "\n",
            "Passing `palette` without assigning `hue` is deprecated and will be removed in v0.14.0. Assign the `x` variable to `hue` and set `legend=False` for the same effect.\n",
            "\n",
            "  sns.boxplot(data=data_visits_melted, x='Period', y='Visits', palette='Greens')\n"
          ]
        },
        {
          "output_type": "display_data",
          "data": {
            "text/plain": [
              "<Figure size 1100x400 with 1 Axes>"
            ],
            "image/png": "[encoded data removed]"
          },
          "metadata": {}
        }
      ]
    },
    {
      "cell_type": "markdown",
      "source": [
        "B) *Promotion* Type Effectiveness"
      ],
      "metadata": {
        "id": "hfMMORGfdc9r"
      }
    },
    {
      "cell_type": "code",
      "source": [
        "# Sales Lift = During - Before\n",
        "data['Sales Lift'] = data['Weekly Sales During Promotion'] - data['Weekly Sales Before Promotion']\n",
        "data['Visit Lift'] = data['Average Daily Visits During Promotion'] - data['Average Daily Visits Before Promotion']\n",
        "print(data[['Sales Lift', 'Visit Lift']])"
      ],
      "metadata": {
        "colab": {
          "base_uri": "https://localhost:8080/"
        },
        "id": "LrTubQhA_RE5",
        "outputId": "f88c6169-5f57-446d-b21a-39a46a0c99d6"
      },
      "execution_count": null,
      "outputs": [
        {
          "output_type": "stream",
          "name": "stdout",
          "text": [
            "    Sales Lift  Visit Lift\n",
            "0        20000         100\n",
            "1        10000          50\n",
            "2        20000         150\n",
            "3        16000         115\n",
            "4        19000         125\n",
            "5        18000         180\n",
            "6         3000          10\n",
            "7        13000         110\n",
            "8        11000          55\n",
            "9        19000         180\n",
            "10        8000          40\n",
            "11       13000         110\n",
            "12        8000          60\n",
            "13       14000         120\n",
            "14       12000          80\n",
            "15       14000         110\n",
            "16        2000          10\n",
            "17       12000          80\n",
            "18       12000          60\n",
            "19       14000         120\n",
            "20       12000          80\n",
            "21       11000         110\n",
            "22       12000          60\n",
            "23       11000          70\n",
            "24       12000          60\n"
          ]
        }
      ]
    },
    {
      "cell_type": "code",
      "source": [
        "# Barplot of Average Lift by Promotion Type\n",
        "fig, axes = plt.subplots(1, 2, figsize=(10, 5))\n",
        "\n",
        "sns.barplot(data=data, x='Type of Promotion', y='Sales Lift', ax=axes[0], palette='coolwarm')\n",
        "axes[0].set_title('Average Sales Lift by Promotion Type')\n",
        "\n",
        "sns.barplot(data=data, x='Type of Promotion', y='Visit Lift', ax=axes[1], palette='viridis')\n",
        "axes[1].set_title('Average Visit Lift by Promotion Type')\n",
        "\n",
        "plt.tight_layout()\n",
        "plt.show()"
      ],
      "metadata": {
        "colab": {
          "base_uri": "https://localhost:8080/",
          "height": 681
        },
        "id": "eZXrJ1lO_RCA",
        "outputId": "4bdaa0b0-06d6-4cfe-c946-2b0c436e9599"
      },
      "execution_count": null,
      "outputs": [
        {
          "output_type": "stream",
          "name": "stderr",
          "text": [
            "/tmp/ipython-input-44-858611963.py:4: FutureWarning: \n",
            "\n",
            "Passing `palette` without assigning `hue` is deprecated and will be removed in v0.14.0. Assign the `x` variable to `hue` and set `legend=False` for the same effect.\n",
            "\n",
            "  sns.barplot(data=data, x='Type of Promotion', y='Sales Lift', ax=axes[0], palette='coolwarm')\n",
            "/tmp/ipython-input-44-858611963.py:7: FutureWarning: \n",
            "\n",
            "Passing `palette` without assigning `hue` is deprecated and will be removed in v0.14.0. Assign the `x` variable to `hue` and set `legend=False` for the same effect.\n",
            "\n",
            "  sns.barplot(data=data, x='Type of Promotion', y='Visit Lift', ax=axes[1], palette='viridis')\n"
          ]
        },
        {
          "output_type": "display_data",
          "data": {
            "text/plain": [
              "<Figure size 1000x500 with 2 Axes>"
            ],
            "image/png": "[encoded data removed]"
          },
          "metadata": {}
        }
      ]
    },
    {
      "cell_type": "code",
      "source": [
        "#Calculate Promotion Length by Location, Store Type, and Store Size\n",
        "\n",
        "# Calculate Promotion Duration\n",
        "data['Promotion Duration'] = (data['Promotion End Date'] - data['Promotion Start Date']).dt.days\n",
        "\n",
        "# Group by Location, Store Type, and Store Size\n",
        "grouped_duration = data.groupby(['Location', 'Store Type', 'Store Size'])['Promotion Duration'].mean().reset_index()\n",
        "\n",
        "# Rename for clarity\n",
        "grouped_duration.rename(columns={'Promotion Duration': 'Avg Promotion Duration (days)'}, inplace=True)\n",
        "\n",
        "# Display the table\n",
        "grouped_duration.sort_values(by='Avg Promotion Duration (days)', ascending=False)\n"
      ],
      "metadata": {
        "colab": {
          "base_uri": "https://localhost:8080/",
          "height": 833
        },
        "id": "zFul1XeA_Q8G",
        "outputId": "747bf108-1004-49ea-dc5f-789a3000d762"
      },
      "execution_count": null,
      "outputs": [
        {
          "output_type": "execute_result",
          "data": {
            "text/plain": [
              "        Location Store Type  Store Size  Avg Promotion Duration (days)\n",
              "0         Austin   Suburban        1600                           14.0\n",
              "1      Baltimore   Suburban        1500                           14.0\n",
              "2         Boston      Urban        1650                           14.0\n",
              "3      Charlotte   Suburban        1750                           14.0\n",
              "5       Columbus      Urban        1650                           14.0\n",
              "7         Denver      Urban        1600                           14.0\n",
              "6         Dallas   Suburban        1500                           14.0\n",
              "8        Detroit      Urban        1900                           14.0\n",
              "9        El Paso   Suburban        1300                           14.0\n",
              "23     San Diego      Urban        2000                           14.0\n",
              "10    Fort Worth   Suburban        1550                           14.0\n",
              "11       Houston   Suburban        1600                           14.0\n",
              "12  Jacksonville      Urban        1450                           14.0\n",
              "14    Louisville   Suburban        1350                           14.0\n",
              "15       Memphis      Urban        1450                           14.0\n",
              "16     Milwaukee   Suburban        1500                           14.0\n",
              "17     Nashville   Suburban        1550                           14.0\n",
              "24      San Jose      Urban        1750                           14.0\n",
              "19  Philadelphia      Urban        1800                           14.0\n",
              "20       Phoenix      Urban        1700                           14.0\n",
              "21      Portland      Urban        1400                           14.0\n",
              "22   San Antonio   Suburban        1400                           14.0\n",
              "4        Chicago      Urban        1800                           13.0\n",
              "13   Los Angeles   Suburban        1500                           13.0\n",
              "18      New York      Urban        2000                           13.0"
            ],
            "text/html": [
              "\n",
              "  <div id=\"df-086ec8ce-f453-455e-b209-d8df5c24c8cb\" class=\"colab-df-container\">\n",
              "    <div>\n",
              "<style scoped>\n",
              "    .dataframe tbody tr th:only-of-type {\n",
              "        vertical-align: middle;\n",
              "    }\n",
              "\n",
              "    .dataframe tbody tr th {\n",
              "        vertical-align: top;\n",
              "    }\n",
              "\n",
              "    .dataframe thead th {\n",
              "        text-align: right;\n",
              "    }\n",
              "</style>\n",
              "<table border=\"1\" class=\"dataframe\">\n",
              "  <thead>\n",
              "    <tr style=\"text-align: right;\">\n",
              "      <th></th>\n",
              "      <th>Location</th>\n",
              "      <th>Store Type</th>\n",
              "      <th>Store Size</th>\n",
              "      <th>Avg Promotion Duration (days)</th>\n",
              "    </tr>\n",
              "  </thead>\n",
              "  <tbody>\n",
              "    <tr>\n",
              "      <th>0</th>\n",
              "      <td>Austin</td>\n",
              "      <td>Suburban</td>\n",
              "      <td>1600</td>\n",
              "      <td>14.0</td>\n",
              "    </tr>\n",
              "    <tr>\n",
              "      <th>1</th>\n",
              "      <td>Baltimore</td>\n",
              "      <td>Suburban</td>\n",
              "      <td>1500</td>\n",
              "      <td>14.0</td>\n",
              "    </tr>\n",
              "    <tr>\n",
              "      <th>2</th>\n",
              "      <td>Boston</td>\n",
              "      <td>Urban</td>\n",
              "      <td>1650</td>\n",
              "      <td>14.0</td>\n",
              "    </tr>\n",
              "    <tr>\n",
              "      <th>3</th>\n",
              "      <td>Charlotte</td>\n",
              "      <td>Suburban</td>\n",
              "      <td>1750</td>\n",
              "      <td>14.0</td>\n",
              "    </tr>\n",
              "    <tr>\n",
              "      <th>5</th>\n",
              "      <td>Columbus</td>\n",
              "      <td>Urban</td>\n",
              "      <td>1650</td>\n",
              "      <td>14.0</td>\n",
              "    </tr>\n",
              "    <tr>\n",
              "      <th>7</th>\n",
              "      <td>Denver</td>\n",
              "      <td>Urban</td>\n",
              "      <td>1600</td>\n",
              "      <td>14.0</td>\n",
              "    </tr>\n",
              "    <tr>\n",
              "      <th>6</th>\n",
              "      <td>Dallas</td>\n",
              "      <td>Suburban</td>\n",
              "      <td>1500</td>\n",
              "      <td>14.0</td>\n",
              "    </tr>\n",
              "    <tr>\n",
              "      <th>8</th>\n",
              "      <td>Detroit</td>\n",
              "      <td>Urban</td>\n",
              "      <td>1900</td>\n",
              "      <td>14.0</td>\n",
              "    </tr>\n",
              "    <tr>\n",
              "      <th>9</th>\n",
              "      <td>El Paso</td>\n",
              "      <td>Suburban</td>\n",
              "      <td>1300</td>\n",
              "      <td>14.0</td>\n",
              "    </tr>\n",
              "    <tr>\n",
              "      <th>23</th>\n",
              "      <td>San Diego</td>\n",
              "      <td>Urban</td>\n",
              "      <td>2000</td>\n",
              "      <td>14.0</td>\n",
              "    </tr>\n",
              "    <tr>\n",
              "      <th>10</th>\n",
              "      <td>Fort Worth</td>\n",
              "      <td>Suburban</td>\n",
              "      <td>1550</td>\n",
              "      <td>14.0</td>\n",
              "    </tr>\n",
              "    <tr>\n",
              "      <th>11</th>\n",
              "      <td>Houston</td>\n",
              "      <td>Suburban</td>\n",
              "      <td>1600</td>\n",
              "      <td>14.0</td>\n",
              "    </tr>\n",
              "    <tr>\n",
              "      <th>12</th>\n",
              "      <td>Jacksonville</td>\n",
              "      <td>Urban</td>\n",
              "      <td>1450</td>\n",
              "      <td>14.0</td>\n",
              "    </tr>\n",
              "    <tr>\n",
              "      <th>14</th>\n",
              "      <td>Louisville</td>\n",
              "      <td>Suburban</td>\n",
              "      <td>1350</td>\n",
              "      <td>14.0</td>\n",
              "    </tr>\n",
              "    <tr>\n",
              "      <th>15</th>\n",
              "      <td>Memphis</td>\n",
              "      <td>Urban</td>\n",
              "      <td>1450</td>\n",
              "      <td>14.0</td>\n",
              "    </tr>\n",
              "    <tr>\n",
              "      <th>16</th>\n",
              "      <td>Milwaukee</td>\n",
              "      <td>Suburban</td>\n",
              "      <td>1500</td>\n",
              "      <td>14.0</td>\n",
              "    </tr>\n",
              "    <tr>\n",
              "      <th>17</th>\n",
              "      <td>Nashville</td>\n",
              "      <td>Suburban</td>\n",
              "      <td>1550</td>\n",
              "      <td>14.0</td>\n",
              "    </tr>\n",
              "    <tr>\n",
              "      <th>24</th>\n",
              "      <td>San Jose</td>\n",
              "      <td>Urban</td>\n",
              "      <td>1750</td>\n",
              "      <td>14.0</td>\n",
              "    </tr>\n",
              "    <tr>\n",
              "      <th>19</th>\n",
              "      <td>Philadelphia</td>\n",
              "      <td>Urban</td>\n",
              "      <td>1800</td>\n",
              "      <td>14.0</td>\n",
              "    </tr>\n",
              "    <tr>\n",
              "      <th>20</th>\n",
              "      <td>Phoenix</td>\n",
              "      <td>Urban</td>\n",
              "      <td>1700</td>\n",
              "      <td>14.0</td>\n",
              "    </tr>\n",
              "    <tr>\n",
              "      <th>21</th>\n",
              "      <td>Portland</td>\n",
              "      <td>Urban</td>\n",
              "      <td>1400</td>\n",
              "      <td>14.0</td>\n",
              "    </tr>\n",
              "    <tr>\n",
              "      <th>22</th>\n",
              "      <td>San Antonio</td>\n",
              "      <td>Suburban</td>\n",
              "      <td>1400</td>\n",
              "      <td>14.0</td>\n",
              "    </tr>\n",
              "    <tr>\n",
              "      <th>4</th>\n",
              "      <td>Chicago</td>\n",
              "      <td>Urban</td>\n",
              "      <td>1800</td>\n",
              "      <td>13.0</td>\n",
              "    </tr>\n",
              "    <tr>\n",
              "      <th>13</th>\n",
              "      <td>Los Angeles</td>\n",
              "      <td>Suburban</td>\n",
              "      <td>1500</td>\n",
              "      <td>13.0</td>\n",
              "    </tr>\n",
              "    <tr>\n",
              "      <th>18</th>\n",
              "      <td>New York</td>\n",
              "      <td>Urban</td>\n",
              "      <td>2000</td>\n",
              "      <td>13.0</td>\n",
              "    </tr>\n",
              "  </tbody>\n",
              "</table>\n",
              "</div>\n",
              "    <div class=\"colab-df-buttons\">\n",
              "\n",
              "  <div class=\"colab-df-container\">\n",
              "    <button class=\"colab-df-convert\" onclick=\"convertToInteractive('df-086ec8ce-f453-455e-b209-d8df5c24c8cb')\"\n",
              "            title=\"Convert this dataframe to an interactive table.\"\n",
              "            style=\"display:none;\">\n",
              "\n",
              "  <svg xmlns=\"http://www.w3.org/2000/svg\" height=\"24px\" viewBox=\"0 -960 960 960\">\n",
              "    <path d=\"M120-120v-720h720v720H120Zm60-500h600v-160H180v160Zm220 220h160v-160H400v160Zm0 220h160v-160H400v160ZM180-400h160v-160H180v160Zm440 0h160v-160H620v160ZM180-180h160v-160H180v160Zm440 0h160v-160H620v160Z\"/>\n",
              "  </svg>\n",
              "    </button>\n",
              "\n",
              "  <style>\n",
              "    .colab-df-container {\n",
              "      display:flex;\n",
              "      gap: 12px;\n",
              "    }\n",
              "\n",
              "    .colab-df-convert {\n",
              "      background-color: #E8F0FE;\n",
              "      border: none;\n",
              "      border-radius: 50%;\n",
              "      cursor: pointer;\n",
              "      display: none;\n",
              "      fill: #1967D2;\n",
              "      height: 32px;\n",
              "      padding: 0 0 0 0;\n",
              "      width: 32px;\n",
              "    }\n",
              "\n",
              "    .colab-df-convert:hover {\n",
              "      background-color: #E2EBFA;\n",
              "      box-shadow: 0px 1px 2px rgba(60, 64, 67, 0.3), 0px 1px 3px 1px rgba(60, 64, 67, 0.15);\n",
              "      fill: #174EA6;\n",
              "    }\n",
              "\n",
              "    .colab-df-buttons div {\n",
              "      margin-bottom: 4px;\n",
              "    }\n",
              "\n",
              "    [theme=dark] .colab-df-convert {\n",
              "      background-color: #3B4455;\n",
              "      fill: #D2E3FC;\n",
              "    }\n",
              "\n",
              "    [theme=dark] .colab-df-convert:hover {\n",
              "      background-color: #434B5C;\n",
              "      box-shadow: 0px 1px 3px 1px rgba(0, 0, 0, 0.15);\n",
              "      filter: drop-shadow(0px 1px 2px rgba(0, 0, 0, 0.3));\n",
              "      fill: #FFFFFF;\n",
              "    }\n",
              "  </style>\n",
              "\n",
              "    <script>\n",
              "      const buttonEl =\n",
              "        document.querySelector('#df-086ec8ce-f453-455e-b209-d8df5c24c8cb button.colab-df-convert');\n",
              "      buttonEl.style.display =\n",
              "        google.colab.kernel.accessAllowed ? 'block' : 'none';\n",
              "\n",
              "      async function convertToInteractive(key) {\n",
              "        const element = document.querySelector('#df-086ec8ce-f453-455e-b209-d8df5c24c8cb');\n",
              "        const dataTable =\n",
              "          await google.colab.kernel.invokeFunction('convertToInteractive',\n",
              "                                                    [key], {});\n",
              "        if (!dataTable) return;\n",
              "\n",
              "        const docLinkHtml = 'Like what you see? Visit the ' +\n",
              "          '<a target=\"_blank\" href=https://colab.research.google.com/notebooks/data_table.ipynb>data table notebook</a>'\n",
              "          + ' to learn more about interactive tables.';\n",
              "        element.innerHTML = '';\n",
              "        dataTable['output_type'] = 'display_data';\n",
              "        await google.colab.output.renderOutput(dataTable, element);\n",
              "        const docLink = document.createElement('div');\n",
              "        docLink.innerHTML = docLinkHtml;\n",
              "        element.appendChild(docLink);\n",
              "      }\n",
              "    </script>\n",
              "  </div>\n",
              "\n",
              "\n",
              "    <div id=\"df-a08fab7f-f8ad-4b03-a186-2545ad737370\">\n",
              "      <button class=\"colab-df-quickchart\" onclick=\"quickchart('df-a08fab7f-f8ad-4b03-a186-2545ad737370')\"\n",
              "                title=\"Suggest charts\"\n",
              "                style=\"display:none;\">\n",
              "\n",
              "<svg xmlns=\"http://www.w3.org/2000/svg\" height=\"24px\"viewBox=\"0 0 24 24\"\n",
              "     width=\"24px\">\n",
              "    <g>\n",
              "        <path d=\"M19 3H5c-1.1 0-2 .9-2 2v14c0 1.1.9 2 2 2h14c1.1 0 2-.9 2-2V5c0-1.1-.9-2-2-2zM9 17H7v-7h2v7zm4 0h-2V7h2v10zm4 0h-2v-4h2v4z\"/>\n",
              "    </g>\n",
              "</svg>\n",
              "      </button>\n",
              "\n",
              "<style>\n",
              "  .colab-df-quickchart {\n",
              "      --bg-color: #E8F0FE;\n",
              "      --fill-color: #1967D2;\n",
              "      --hover-bg-color: #E2EBFA;\n",
              "      --hover-fill-color: #174EA6;\n",
              "      --disabled-fill-color: #AAA;\n",
              "      --disabled-bg-color: #DDD;\n",
              "  }\n",
              "\n",
              "  [theme=dark] .colab-df-quickchart {\n",
              "      --bg-color: #3B4455;\n",
              "      --fill-color: #D2E3FC;\n",
              "      --hover-bg-color: #434B5C;\n",
              "      --hover-fill-color: #FFFFFF;\n",
              "      --disabled-bg-color: #3B4455;\n",
              "      --disabled-fill-color: #666;\n",
              "  }\n",
              "\n",
              "  .colab-df-quickchart {\n",
              "    background-color: var(--bg-color);\n",
              "    border: none;\n",
              "    border-radius: 50%;\n",
              "    cursor: pointer;\n",
              "    display: none;\n",
              "    fill: var(--fill-color);\n",
              "    height: 32px;\n",
              "    padding: 0;\n",
              "    width: 32px;\n",
              "  }\n",
              "\n",
              "  .colab-df-quickchart:hover {\n",
              "    background-color: var(--hover-bg-color);\n",
              "    box-shadow: 0 1px 2px rgba(60, 64, 67, 0.3), 0 1px 3px 1px rgba(60, 64, 67, 0.15);\n",
              "    fill: var(--button-hover-fill-color);\n",
              "  }\n",
              "\n",
              "  .colab-df-quickchart-complete:disabled,\n",
              "  .colab-df-quickchart-complete:disabled:hover {\n",
              "    background-color: var(--disabled-bg-color);\n",
              "    fill: var(--disabled-fill-color);\n",
              "    box-shadow: none;\n",
              "  }\n",
              "\n",
              "  .colab-df-spinner {\n",
              "    border: 2px solid var(--fill-color);\n",
              "    border-color: transparent;\n",
              "    border-bottom-color: var(--fill-color);\n",
              "    animation:\n",
              "      spin 1s steps(1) infinite;\n",
              "  }\n",
              "\n",
              "  @keyframes spin {\n",
              "    0% {\n",
              "      border-color: transparent;\n",
              "      border-bottom-color: var(--fill-color);\n",
              "      border-left-color: var(--fill-color);\n",
              "    }\n",
              "    20% {\n",
              "      border-color: transparent;\n",
              "      border-left-color: var(--fill-color);\n",
              "      border-top-color: var(--fill-color);\n",
              "    }\n",
              "    30% {\n",
              "      border-color: transparent;\n",
              "      border-left-color: var(--fill-color);\n",
              "      border-top-color: var(--fill-color);\n",
              "      border-right-color: var(--fill-color);\n",
              "    }\n",
              "    40% {\n",
              "      border-color: transparent;\n",
              "      border-right-color: var(--fill-color);\n",
              "      border-top-color: var(--fill-color);\n",
              "    }\n",
              "    60% {\n",
              "      border-color: transparent;\n",
              "      border-right-color: var(--fill-color);\n",
              "    }\n",
              "    80% {\n",
              "      border-color: transparent;\n",
              "      border-right-color: var(--fill-color);\n",
              "      border-bottom-color: var(--fill-color);\n",
              "    }\n",
              "    90% {\n",
              "      border-color: transparent;\n",
              "      border-bottom-color: var(--fill-color);\n",
              "    }\n",
              "  }\n",
              "</style>\n",
              "\n",
              "      <script>\n",
              "        async function quickchart(key) {\n",
              "          const quickchartButtonEl =\n",
              "            document.querySelector('#' + key + ' button');\n",
              "          quickchartButtonEl.disabled = true;  // To prevent multiple clicks.\n",
              "          quickchartButtonEl.classList.add('colab-df-spinner');\n",
              "          try {\n",
              "            const charts = await google.colab.kernel.invokeFunction(\n",
              "                'suggestCharts', [key], {});\n",
              "          } catch (error) {\n",
              "            console.error('Error during call to suggestCharts:', error);\n",
              "          }\n",
              "          quickchartButtonEl.classList.remove('colab-df-spinner');\n",
              "          quickchartButtonEl.classList.add('colab-df-quickchart-complete');\n",
              "        }\n",
              "        (() => {\n",
              "          let quickchartButtonEl =\n",
              "            document.querySelector('#df-a08fab7f-f8ad-4b03-a186-2545ad737370 button');\n",
              "          quickchartButtonEl.style.display =\n",
              "            google.colab.kernel.accessAllowed ? 'block' : 'none';\n",
              "        })();\n",
              "      </script>\n",
              "    </div>\n",
              "\n",
              "    </div>\n",
              "  </div>\n"
            ],
            "application/vnd.google.colaboratory.intrinsic+json": {
              "type": "dataframe",
              "summary": "{\n  \"name\": \"grouped_duration\",\n  \"rows\": 25,\n  \"fields\": [\n    {\n      \"column\": \"Location\",\n      \"properties\": {\n        \"dtype\": \"string\",\n        \"num_unique_values\": 25,\n        \"samples\": [\n          \"El Paso\",\n          \"Nashville\",\n          \"Austin\"\n        ],\n        \"semantic_type\": \"\",\n        \"description\": \"\"\n      }\n    },\n    {\n      \"column\": \"Store Type\",\n      \"properties\": {\n        \"dtype\": \"category\",\n        \"num_unique_values\": 2,\n        \"samples\": [\n          \"Urban\",\n          \"Suburban\"\n        ],\n        \"semantic_type\": \"\",\n        \"description\": \"\"\n      }\n    },\n    {\n      \"column\": \"Store Size\",\n      \"properties\": {\n        \"dtype\": \"number\",\n        \"std\": 190,\n        \"min\": 1300,\n        \"max\": 2000,\n        \"num_unique_values\": 13,\n        \"samples\": [\n          1700,\n          1350\n        ],\n        \"semantic_type\": \"\",\n        \"description\": \"\"\n      }\n    },\n    {\n      \"column\": \"Avg Promotion Duration (days)\",\n      \"properties\": {\n        \"dtype\": \"number\",\n        \"std\": 0.33166247903553997,\n        \"min\": 13.0,\n        \"max\": 14.0,\n        \"num_unique_values\": 2,\n        \"samples\": [\n          13.0,\n          14.0\n        ],\n        \"semantic_type\": \"\",\n        \"description\": \"\"\n      }\n    }\n  ]\n}"
            }
          },
          "metadata": {},
          "execution_count": 53
        }
      ]
    },
    {
      "cell_type": "code",
      "source": [
        "# Pivot for heatmap (optional: simplify by aggregating Store Size into bins if needed)\n",
        "pivot_duration = data.pivot_table(\n",
        "    index='Location',\n",
        "    columns='Store Type',\n",
        "    values='Promotion Duration',\n",
        "    aggfunc='mean'\n",
        ")\n",
        "\n",
        "plt.figure(figsize=(10, 6))\n",
        "sns.heatmap(pivot_duration, annot=True, cmap='YlGnBu', fmt=\".1f\")\n",
        "plt.title('Average Promotion Duration by Location and Store Type')\n",
        "plt.ylabel('Location')\n",
        "plt.xlabel('Store Type')\n",
        "plt.tight_layout()\n",
        "plt.show()"
      ],
      "metadata": {
        "colab": {
          "base_uri": "https://localhost:8080/",
          "height": 607
        },
        "id": "j2PQN0jR_Q5g",
        "outputId": "0a324f8a-76d8-43c8-ab73-8791be8f91a7"
      },
      "execution_count": null,
      "outputs": [
        {
          "output_type": "display_data",
          "data": {
            "text/plain": [
              "<Figure size 1000x600 with 2 Axes>"
            ],
            "image/png": "[encoded data removed]"
          },
          "metadata": {}
        }
      ]
    },
    {
      "cell_type": "code",
      "source": [],
      "metadata": {
        "id": "JyVLg3YX_Qxo"
      },
      "execution_count": null,
      "outputs": []
    },
    {
      "cell_type": "code",
      "source": [],
      "metadata": {
        "id": "UB3P_pys_Que"
      },
      "execution_count": null,
      "outputs": []
    },
    {
      "cell_type": "code",
      "source": [],
      "metadata": {
        "id": "HvcGS3q6_Qpe"
      },
      "execution_count": null,
      "outputs": []
    },
    {
      "cell_type": "code",
      "source": [],
      "metadata": {
        "id": "gMALozQj_Qmd"
      },
      "execution_count": null,
      "outputs": []
    },
    {
      "cell_type": "code",
      "source": [],
      "metadata": {
        "id": "e4Cv2eNO_Qj3"
      },
      "execution_count": null,
      "outputs": []
    },
    {
      "cell_type": "code",
      "source": [],
      "metadata": {
        "id": "4oNi8d-h_Qh0"
      },
      "execution_count": null,
      "outputs": []
    },
    {
      "cell_type": "code",
      "source": [],
      "metadata": {
        "id": "BP_raF87_QeS"
      },
      "execution_count": null,
      "outputs": []
    },
    {
      "cell_type": "code",
      "source": [],
      "metadata": {
        "id": "ZIRLs5Wf_QYc"
      },
      "execution_count": null,
      "outputs": []
    },
    {
      "cell_type": "code",
      "source": [],
      "metadata": {
        "id": "2lKuvAlU_QVM"
      },
      "execution_count": null,
      "outputs": []
    },
    {
      "cell_type": "code",
      "source": [],
      "metadata": {
        "id": "I8czo5kM_QR9"
      },
      "execution_count": null,
      "outputs": []
    },
    {
      "cell_type": "code",
      "source": [],
      "metadata": {
        "id": "M-Z97QG__QPG"
      },
      "execution_count": null,
      "outputs": []
    },
    {
      "cell_type": "code",
      "source": [],
      "metadata": {
        "id": "3bPRcb0h_QMn"
      },
      "execution_count": null,
      "outputs": []
    },
    {
      "cell_type": "code",
      "source": [],
      "metadata": {
        "id": "8glxdp_D_QJN"
      },
      "execution_count": null,
      "outputs": []
    },
    {
      "cell_type": "code",
      "source": [],
      "metadata": {
        "id": "XUcA4ljt_QGb"
      },
      "execution_count": null,
      "outputs": []
    },
    {
      "cell_type": "code",
      "source": [],
      "metadata": {
        "id": "kkfNQgGM_QDj"
      },
      "execution_count": null,
      "outputs": []
    },
    {
      "cell_type": "code",
      "source": [],
      "metadata": {
        "id": "agRL3GOV_QAn"
      },
      "execution_count": null,
      "outputs": []
    },
    {
      "cell_type": "code",
      "source": [],
      "metadata": {
        "id": "xAFdn03J_P9-"
      },
      "execution_count": null,
      "outputs": []
    },
    {
      "cell_type": "code",
      "source": [],
      "metadata": {
        "id": "_VncvYoR_P7E"
      },
      "execution_count": null,
      "outputs": []
    },
    {
      "cell_type": "code",
      "source": [],
      "metadata": {
        "id": "wifYsN8Q_P4c"
      },
      "execution_count": null,
      "outputs": []
    },
    {
      "cell_type": "code",
      "source": [],
      "metadata": {
        "id": "WBiW7ff-_P07"
      },
      "execution_count": null,
      "outputs": []
    },
    {
      "cell_type": "code",
      "source": [],
      "metadata": {
        "id": "bOfNggiM_PwE"
      },
      "execution_count": null,
      "outputs": []
    },
    {
      "cell_type": "code",
      "source": [],
      "metadata": {
        "id": "CFIIl-Ww_Prl"
      },
      "execution_count": null,
      "outputs": []
    },
    {
      "cell_type": "code",
      "source": [],
      "metadata": {
        "id": "rWZn-QLR_Pog"
      },
      "execution_count": null,
      "outputs": []
    },
    {
      "cell_type": "code",
      "source": [],
      "metadata": {
        "id": "Q7PMHyrW_PYI"
      },
      "execution_count": null,
      "outputs": []
    }
  ]
}